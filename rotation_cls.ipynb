{
  "cells": [
    {
      "cell_type": "code",
      "source": [
        "from google.colab import drive\n",
        "drive.mount('/content/drive')"
      ],
      "metadata": {
        "id": "SbxR_AUCrd2N",
        "colab": {
          "base_uri": "https://localhost:8080/"
        },
        "outputId": "c06ae513-f421-45a4-b54c-e13fbd894fac"
      },
      "execution_count": 1,
      "outputs": [
        {
          "output_type": "stream",
          "name": "stdout",
          "text": [
            "Mounted at /content/drive\n"
          ]
        }
      ]
    },
    {
      "cell_type": "code",
      "source": [
        "import zipfile\n",
        "\n",
        "archive = '/content/drive/MyDrive/datasets/rvl-cdip.zip'\n",
        "with zipfile.ZipFile(archive,\"r\") as zip_ref:\n",
        "    zip_ref.extractall(\"/content/drive/MyDrive/datasets/rvl-cdip\")"
      ],
      "metadata": {
        "id": "YwMPu3ADNEJR"
      },
      "execution_count": null,
      "outputs": []
    },
    {
      "cell_type": "code",
      "execution_count": 2,
      "metadata": {
        "id": "OT7bwAFgVqIJ",
        "colab": {
          "base_uri": "https://localhost:8080/"
        },
        "outputId": "886a7d2c-51b4-4a6c-a5a7-5888d75f2177"
      },
      "outputs": [
        {
          "output_type": "stream",
          "name": "stderr",
          "text": [
            "/usr/local/lib/python3.7/dist-packages/ipykernel_launcher.py:15: TqdmExperimentalWarning: Using `tqdm.autonotebook.tqdm` in notebook mode. Use `tqdm.tqdm` instead to force console mode (e.g. in jupyter console)\n",
            "  from ipykernel import kernelapp as app\n"
          ]
        }
      ],
      "source": [
        "import os\n",
        "import math\n",
        "import cv2\n",
        "import datetime\n",
        "import fnmatch\n",
        "import glob\n",
        "from PIL import Image\n",
        "from skimage import io, transform\n",
        "from skimage.color import gray2rgb\n",
        "from pathlib import Path\n",
        "import numpy as np\n",
        "import pandas as pd\n",
        "import matplotlib.pyplot as plt\n",
        "import seaborn as sns\n",
        "from tqdm.autonotebook import tqdm\n",
        "from sklearn.metrics import confusion_matrix\n",
        "\n",
        "import torch\n",
        "import torch.nn as nn\n",
        "import torch.nn.functional as F\n",
        "import torchvision.transforms as T\n",
        "from torch.utils.data import Dataset, DataLoader\n",
        "from torch.utils.data.sampler import SubsetRandomSampler\n",
        "import torch.optim as optim"
      ]
    },
    {
      "cell_type": "markdown",
      "source": [
        "#Dataset"
      ],
      "metadata": {
        "id": "imz0v2DUQd97"
      }
    },
    {
      "cell_type": "code",
      "execution_count": 3,
      "metadata": {
        "id": "tVOrM4xwWzN7"
      },
      "outputs": [],
      "source": [
        "class DocDataset(Dataset):\n",
        "    def __init__(self, origin, classes, img_size, grayscale=False):\n",
        "        self.items = []\n",
        "        self.gt = []\n",
        "\n",
        "        if os.path.exists(origin):\n",
        "            self.origin = origin\n",
        "            self.img_size = img_size\n",
        "            self.grayscale = grayscale\n",
        "            self.classes = np.array(classes)\n",
        "            \n",
        "            for cls_id, cls_name in enumerate(self.classes):                \n",
        "                cls_path = os.path.join(origin, cls_name)\n",
        "                if os.path.exists(cls_path) and os.path.isdir(cls_path):\n",
        "                    # get items\n",
        "                    files = glob.glob(f\"{cls_path}/*\")\n",
        "                    self.items.extend(files)\n",
        "                    self.gt.extend([cls_id] * len(files))\n",
        "            \n",
        "            self.gt = torch.tensor(self.gt, dtype=torch.int64)\n",
        "            self.items = np.array(self.items)\n",
        "            self.loaded = True\n",
        "        else:\n",
        "            self.loaded = False\n",
        "\n",
        "    @staticmethod\n",
        "    def img_path_to_input(image_path, img_size, grayscale):\n",
        "        \"\"\"\n",
        "        loads image from file and transforms it to tensor of required size\n",
        "        \"\"\"\n",
        "        image = io.imread(image_path, as_gray=False)\n",
        "        image = cv2.resize(image, dsize=(img_size,img_size), interpolation=cv2.INTER_NEAREST)\n",
        "\n",
        "        if not grayscale:\n",
        "            image = gray2rgb(image)\n",
        "            image = image.transpose((2, 0, 1))\n",
        "\n",
        "        image = torch.from_numpy(image)\n",
        "        image = image / 255.\n",
        "        return image\n",
        "\n",
        "    def __len__(self):\n",
        "        return len(self.items)\n",
        "            \n",
        "    def __getitem__(self, idx):\n",
        "        if torch.is_tensor(idx):\n",
        "            idx = idx.tolist()\n",
        "        # get item info\n",
        "        image_path = self.items[idx]\n",
        "        gt = self.gt[idx]\n",
        "        # load and preprocess image\n",
        "        image = DocDataset.img_path_to_input(image_path, self.img_size, self.grayscale)\n",
        "        return image, gt, torch.tensor(idx, dtype=torch.long)"
      ]
    },
    {
      "cell_type": "markdown",
      "source": [
        "#Confusion matrix"
      ],
      "metadata": {
        "id": "0tvdBd3PQgrn"
      }
    },
    {
      "cell_type": "code",
      "execution_count": 4,
      "metadata": {
        "id": "nc1S5sdMrToT"
      },
      "outputs": [],
      "source": [
        "def print_confusion_matrix(gt, pred, class_names):\n",
        "    cf_matrix = confusion_matrix(gt, pred)\n",
        "    dataframe = pd.DataFrame(cf_matrix, index=class_names, columns=class_names)\n",
        "    \n",
        "    plt.figure(figsize=(8, 6))\n",
        "    sns.heatmap(dataframe, annot=True, cbar=None,cmap=\"YlGnBu\",fmt=\"d\")\n",
        "\n",
        "    plt.title(\"Confusion Matrix\"), plt.tight_layout()\n",
        "\n",
        "    plt.ylabel(\"True Class\"), \n",
        "    plt.xlabel(\"Predicted Class\")\n",
        "    plt.show()\n",
        "    plt.clf()\n",
        "\n",
        "def save_confusion_matrix(gt, pred, class_names, file):\n",
        "    cf_matrix = confusion_matrix(gt, pred)\n",
        "    dataframe = pd.DataFrame(cf_matrix, index=class_names, columns=class_names)\n",
        "    \n",
        "    plt.figure(figsize=(8, 6))\n",
        "    sns.heatmap(dataframe, annot=True, cbar=None,cmap=\"YlGnBu\",fmt=\"d\")\n",
        "\n",
        "    plt.title(\"Confusion Matrix\"), plt.tight_layout()\n",
        "\n",
        "    plt.ylabel(\"True Class\"), \n",
        "    plt.xlabel(\"Predicted Class\")\n",
        "    plt.savefig(file)\n",
        "    plt.clf()"
      ]
    },
    {
      "cell_type": "markdown",
      "source": [
        "# Model"
      ],
      "metadata": {
        "id": "Z8jTBG3VQbmO"
      }
    },
    {
      "cell_type": "code",
      "source": [
        "def conv3x3(in_planes, out_planes, stride=1):\n",
        "    return nn.Conv2d(in_planes, out_planes, kernel_size=3, stride=stride, padding=1, bias=False)\n",
        "\n",
        "class BasicBlock(nn.Module):\n",
        "    expansion = 1\n",
        "\n",
        "    def __init__(self, inplanes, planes, stride=1, downsample=None):\n",
        "        super(BasicBlock, self).__init__()\n",
        "        self.conv1 = conv3x3(inplanes, planes, stride)\n",
        "        self.bn1 = nn.BatchNorm2d(planes)\n",
        "        self.bn1.momentum = 0.1\n",
        "        self.relu = nn.ReLU(inplace=True)\n",
        "        self.conv2 = conv3x3(planes, planes)\n",
        "        self.bn2 = nn.BatchNorm2d(planes)\n",
        "        self.bn2.momentum = 0.1\n",
        "        self.downsample = downsample\n",
        "        self.stride = stride\n",
        "\n",
        "    def forward(self, x):\n",
        "        residual = x\n",
        "\n",
        "        out = self.conv1(x)\n",
        "        out = self.bn1(out)\n",
        "        out = self.relu(out)\n",
        "\n",
        "        out = self.conv2(out)\n",
        "        out = self.bn2(out)\n",
        "\n",
        "        if self.downsample is not None:\n",
        "            residual = self.downsample(x)\n",
        "\n",
        "        out += residual\n",
        "        out = self.relu(out)\n",
        "\n",
        "        return out\n",
        "\n",
        "\n",
        "class ResNet(nn.Module):\n",
        "\n",
        "    def __init__(self, block, layers, num_classes, grayscale):\n",
        "        self.inplanes = 64\n",
        "        if grayscale:\n",
        "            in_dim = 1\n",
        "        else:\n",
        "            in_dim = 3\n",
        "        super(ResNet, self).__init__()\n",
        "        self.conv1 = nn.Conv2d(in_dim, 64, kernel_size=7, stride=2, padding=3,\n",
        "                               bias=False)\n",
        "        self.bn1 = nn.BatchNorm2d(64)\n",
        "        self.bn1.momentum = 0.1\n",
        "        self.relu = nn.ReLU(inplace=True)\n",
        "        self.maxpool = nn.MaxPool2d(kernel_size=3, stride=2, padding=1)\n",
        "        self.layer1 = self._make_layer(block, 64, layers[0])\n",
        "        self.layer2 = self._make_layer(block, 128, layers[1], stride=2)\n",
        "        self.layer3 = self._make_layer(block, 256, layers[2], stride=2)\n",
        "        self.layer4 = self._make_layer(block, 512, layers[3], stride=2)\n",
        "        self.avgpool = nn.AvgPool2d(7, stride=1)\n",
        "        self.fc = nn.Linear(512 * block.expansion, num_classes)\n",
        "\n",
        "    def _make_layer(self, block, planes, blocks, stride=1):\n",
        "        downsample = None\n",
        "        if stride != 1 or self.inplanes != planes * block.expansion:\n",
        "            downsample = nn.Sequential(\n",
        "                nn.Conv2d(self.inplanes, planes * block.expansion,\n",
        "                          kernel_size=1, stride=stride, bias=False),\n",
        "                nn.BatchNorm2d(planes * block.expansion, track_running_stats=False),\n",
        "            )\n",
        "\n",
        "        layers = []\n",
        "        layers.append(block(self.inplanes, planes, stride, downsample))\n",
        "        self.inplanes = planes * block.expansion\n",
        "        for i in range(1, blocks):\n",
        "            layers.append(block(self.inplanes, planes))\n",
        "\n",
        "        return nn.Sequential(*layers)\n",
        "\n",
        "    def forward(self, x):\n",
        "        x = self.conv1(x)\n",
        "        x = self.bn1(x)\n",
        "        x = self.relu(x)\n",
        "        x = self.maxpool(x)\n",
        "\n",
        "        x = self.layer1(x)\n",
        "        x = self.layer2(x)\n",
        "        x = self.layer3(x)\n",
        "        x = self.layer4(x)        \n",
        "        x = self.avgpool(x)\n",
        "        \n",
        "        x = x.view(x.size(0), -1)\n",
        "        logits = self.fc(x)\n",
        "        probas = F.softmax(logits, dim=1)\n",
        "        return logits, probas\n",
        "\n",
        "\n",
        "\n",
        "def ResNet18(num_classes, grayscale):\n",
        "    model = ResNet(block=BasicBlock, \n",
        "                   layers=[2, 2, 2, 2],\n",
        "                   num_classes=num_classes,\n",
        "                   grayscale=grayscale)\n",
        "    return model"
      ],
      "metadata": {
        "id": "OvEDpqQFEPmF"
      },
      "execution_count": 5,
      "outputs": []
    },
    {
      "cell_type": "markdown",
      "source": [
        "# TRAINER - dataloaders, train, eval, predict methods"
      ],
      "metadata": {
        "id": "bfnD5MgOQndW"
      }
    },
    {
      "cell_type": "code",
      "source": [
        "class Trainer():\n",
        "    def __init__(self, device, classes, img_size=224, grayscale=False, experiments_dir=None, verbose=True):\n",
        "        self.img_size = img_size\n",
        "        self.grayscale = grayscale\n",
        "        self.device = device\n",
        "        self.classes = np.array(classes)\n",
        "        self.experiments_dir = experiments_dir\n",
        "        self.verbose = verbose\n",
        "\n",
        "        self.trainloader_rdy = False\n",
        "        self.valloader_rdy = False\n",
        "        self.model_rdy = False\n",
        "\n",
        "\n",
        "    def setup_loaders_with_split(self, set_origin, batch_size, validation_split=.2, shuffle=True):\n",
        "        ds = DocDataset(set_origin, self.classes, self.img_size, self.grayscale)\n",
        "        if shuffle:\n",
        "            indices = torch.randperm(len(ds))\n",
        "        else:\n",
        "            indices = list(range(len(ds)))\n",
        "\n",
        "        # split train/eval\n",
        "        split = int(np.floor(validation_split * len(indices)))\n",
        "        train_indices, val_indices = indices[split:], indices[:split]\n",
        "        # sampler\n",
        "        train_sampler = SubsetRandomSampler(train_indices)\n",
        "        val_sampler = SubsetRandomSampler(val_indices)\n",
        "        # loaders\n",
        "        self.train_loader = DataLoader(ds, batch_size=batch_size, sampler=train_sampler)\n",
        "        self.val_loader = DataLoader(ds, batch_size=batch_size, sampler=val_sampler)\n",
        "\n",
        "        self.trainloader_rdy = True\n",
        "        self.valloader_rdy = True\n",
        "\n",
        "        if self.verbose:\n",
        "            print(\"Train and Validation loaders created\")\n",
        "\n",
        "\n",
        "    def setup_train_loader(self, trainset_origin, batch_size, shuffle=True):\n",
        "        trainset = DocDataset(trainset_origin, self.classes, self.img_size, self.grayscale)\n",
        "        self.train_loader = DataLoader(trainset, batch_size=batch_size, shuffle=shuffle)\n",
        "        self.trainloader_rdy = True\n",
        "        if self.verbose:\n",
        "            print(\"Train loader created\")\n",
        "\n",
        "\n",
        "    def setup_val_loader(self, valset_origin, batch_size, shuffle=True):\n",
        "        valset = DocDataset(valset_origin, self.classes, self.img_size, self.grayscale)\n",
        "        self.val_loader = DataLoader(valset, batch_size=batch_size, shuffle=shuffle)\n",
        "        self.valloader_rdy = True\n",
        "        if self.verbose:\n",
        "            print(\"Validation loader created\")\n",
        "\n",
        "\n",
        "    def init_model(self, load_state_dict=None):\n",
        "        self.model = ResNet18(len(self.classes), self.grayscale)\n",
        "        if self.verbose:\n",
        "            print(\"Model initialized\")\n",
        "\n",
        "        if load_state_dict is not None and os.path.exists(load_state_dict):\n",
        "            # load pretrained weights if given\n",
        "            self.model.load_state_dict(torch.load(load_state_dict, map_location=self.device))\n",
        "            if self.verbose:\n",
        "                print(\"Model state dict loaded\")\n",
        "\n",
        "        self.model.to(self.device)\n",
        "        self.model_rdy = True\n",
        "\n",
        "\n",
        "    def train(self, epochs, eval_each=None, log=False, show_confusion_matrices=False, save_best_model=False):        \n",
        "        if not self.trainloader_rdy:\n",
        "            print(\"Train loader not created\")\n",
        "            return False\n",
        "        if not self.valloader_rdy and eval_each is not None:\n",
        "            print(\"Validation loader not created\")\n",
        "            return False\n",
        "        if save_best_model and self.experiments_dir is None:\n",
        "            print(\"Requested model save, but experiments dir not specified\")\n",
        "            return False\n",
        "        if log and self.experiments_dir is None:\n",
        "            print(\"Requested logging, but experiments dir not specified\")\n",
        "            return False\n",
        "        if log and not os.path.exists(self.experiments_dir):\n",
        "            print(\"Logging requested, but experiments directory does not exists\")\n",
        "            return False\n",
        "        if not self.model_rdy:\n",
        "            print(\"Model not initialized\")        \n",
        "            return False\n",
        "\n",
        "        print(\"Training\")\n",
        "\n",
        "        # logging experiment setting\n",
        "        logdir = None\n",
        "        if log:\n",
        "            # log directory init\n",
        "            now = datetime.datetime.now().strftime(\"%Y%m%dT%H%M%S\")\n",
        "            logdir_name = 'start_' + now\n",
        "            logdir = os.path.join(self.experiments_dir, logdir_name)\n",
        "            os.mkdir(logdir)                    \n",
        "            print(f\" LOGGING EXPERIMENT to: {logdir}\")\n",
        "\n",
        "            # logfile init\n",
        "            trainstats_file = os.path.join(logdir, \"stats.csv\")\n",
        "            with open(trainstats_file, \"a\") as fd:\n",
        "                fd.write(\"epoch,loss,loss_avg,train_acc,eval_acc\\n\")            \n",
        "            \n",
        "\n",
        "        # training settings\n",
        "        self.model.train()\n",
        "        optimizer = optim.Adam(self.model.parameters(), lr=3e-3)\n",
        "        \n",
        "        # stats accumulator\n",
        "        stats = pd.DataFrame({\n",
        "            'epoch': [],\n",
        "            'loss': [],\n",
        "            'loss_avg': [],\n",
        "            'train_acc': [],\n",
        "            'eval_acc': []\n",
        "        })        \n",
        "        best_eval_acc = 0\n",
        "\n",
        "        # TRAIN LOOP\n",
        "        for epoch in tqdm(range(epochs)):\n",
        "            epoch_loss, epoch_hits, epoch_samples = 0, 0, 0\n",
        "            for i, data in tqdm(enumerate(self.train_loader), total=len(self.train_loader)):\n",
        "                # input\n",
        "                input, gt, idx = data\n",
        "                input = input.to(self.device)\n",
        "                gt = gt.to(self.device)\n",
        "                                  \n",
        "                # forward & backward pass & GD\n",
        "                optimizer.zero_grad()\n",
        "                output_logits, output_probs = self.model(input)\n",
        "                    \n",
        "\n",
        "                loss = F.cross_entropy(output_logits, gt.type(torch.long))                               \n",
        "                loss.backward()\n",
        "                optimizer.step()\n",
        "\n",
        "                # batch train stats\n",
        "                pred = torch.argmax(output_logits, axis=1)\n",
        "                hits = (gt == pred).sum()\n",
        "                epoch_hits += hits.item()\n",
        "                epoch_samples += pred.shape[0]                \n",
        "                epoch_loss += loss.item()                                                \n",
        "            \n",
        "            # epoch train stats\n",
        "            epoch_loss_avg = epoch_loss / (len(self.train_loader) * self.train_loader.batch_size)\n",
        "            train_acc = epoch_hits / epoch_samples * 100\n",
        "\n",
        "            if self.verbose:\n",
        "                print(f\" Epoch: {epoch}, loss = {epoch_loss}, loss_avg = {epoch_loss_avg}, train accuracy: {train_acc}%\")\n",
        "\n",
        "            # evaluation during training\n",
        "            eval_acc = -1\n",
        "            if eval_each is not None and (epoch+1) % eval_each == 0:\n",
        "                # evaluation\n",
        "                eval_acc, eval_stats = self._eval(False)\n",
        "                                \n",
        "                if show_confusion_matrices:\n",
        "                    print_confusion_matrix(eval_stats['gt'].tolist(), eval_stats['pred'].tolist(), self.classes)\n",
        "\n",
        "                # if best so far - log and save state dict\n",
        "                if eval_acc > best_eval_acc:\n",
        "                    best_eval_acc = eval_acc\n",
        "\n",
        "                    if save_best_model:\n",
        "                        torch.save(self.model.state_dict(), os.path.join(logdir, f\"bestmodel.pth\"))\n",
        "                        save_confusion_matrix(eval_stats['gt'].tolist(), eval_stats['pred'].tolist(), self.classes, os.path.join(logdir, 'best_cfm.png'))\n",
        "                        \n",
        "                        bestmodel_acc_file = os.path.join(logdir, 'bestmodel_stats.csv')\n",
        "                        with open(bestmodel_acc_file, \"w\") as fd:\n",
        "                            fd.write(\"epoch,loss,loss_avg,train_acc,eval_acc\\n\")\n",
        "                            fd.write(f\"{epoch},{epoch_loss},{epoch_loss_avg},{train_acc},{eval_acc}\\n\")\n",
        "\n",
        "            batch_stats = pd.DataFrame({\n",
        "                'epoch': [epoch],\n",
        "                'loss': [epoch_loss],\n",
        "                'loss_avg': [epoch_loss_avg],\n",
        "                'train_acc': [train_acc],\n",
        "                'eval_acc': [eval_acc]\n",
        "            })\n",
        "            stats = pd.concat([stats, batch_stats], ignore_index=True)\n",
        "            stats.reset_index()\n",
        "\n",
        "            # epoch stats log\n",
        "            with open(trainstats_file, \"a\") as fd:\n",
        "                log_eval_acc = eval_acc\n",
        "                if log_eval_acc == -1:\n",
        "                    log_eval_acc = \"\"\n",
        "                fd.write(f\"{epoch},{epoch_loss},{epoch_loss_avg},{train_acc},{log_eval_acc}\\n\")   \n",
        "\n",
        "\n",
        "        \n",
        "        # plot epochs average loss evolution\n",
        "        if log or self.verbose:\n",
        "            sns.lineplot(data=stats['loss_avg'].tolist(), palette='YlGnBu')\n",
        "            plt.title('Avg training loss')\n",
        "            if log:\n",
        "                loss_logfile = os.path.join(logdir, 'loss_evo.png')\n",
        "                plt.savefig(loss_logfile)\n",
        "            if self.verbose:\n",
        "                plt.show()\n",
        "            plt.clf()\n",
        "\n",
        "        # plot epochs evaluation accuracy evolution            \n",
        "        if log or self.verbose:\n",
        "            plt.plot(stats['epoch'], stats['train_acc'], marker='.', color='r', label= 'training accuracy')\n",
        "            \n",
        "            valid_eval_accs = [eval_acc for eval_acc in stats['eval_acc'].tolist() if eval_acc != -1]\n",
        "            valid_eval_epochs = [epoch for epoch, eval_acc in zip(stats['epoch'].tolist(), stats['eval_acc'].tolist()) if eval_acc != -1]\n",
        "            plt.plot(valid_eval_epochs, valid_eval_accs, marker = '+', color = 'g',label = 'evaluation accuracy')\n",
        "\n",
        "            plt.legend()\n",
        "            plt.title('Training and evaluation accuracy evolution')\n",
        "            if log:\n",
        "                acc_logfile = os.path.join(logdir, 'acc_evo.png')\n",
        "                plt.savefig(acc_logfile)\n",
        "            if self.verbose:\n",
        "                plt.show()            \n",
        "            plt.clf()\n",
        "    \n",
        "    def _eval(self, filestats_stdout=False):\n",
        "        print(\"Evaluation\")\n",
        "        # self.model.eval()\n",
        "            \n",
        "        # stats accumulators\n",
        "        hits_count, samples_count = 0, 0\n",
        "        stats = {\n",
        "            'filename': [],\n",
        "            'gt': [],\n",
        "            'pred': [],\n",
        "            'certainty': [],\n",
        "            'error': []\n",
        "        }\n",
        "\n",
        "        # EVAL LOOP\n",
        "        for i, data in tqdm(enumerate(self.val_loader), total=len(self.val_loader)):\n",
        "            # inputs\n",
        "            input, gt, idx = data\n",
        "            input = input.to(self.device)\n",
        "            gt = gt.to(self.device)\n",
        "            \n",
        "            # forward pass\n",
        "            output_logits, output_probs = self.model(input)\n",
        "\n",
        "            # predictions & stats\n",
        "            pred = torch.argmax(output_logits, axis=1)\n",
        "            certainty = torch.max(output_probs, axis=1).values\n",
        "            err = (gt != pred)\n",
        "            hits = (gt == pred).sum()\n",
        "            \n",
        "            hits_count += hits.item()\n",
        "            samples_count += pred.shape[0]\n",
        "\n",
        "            stats['filename'].extend(self.val_loader.dataset.items[idx.tolist()])\n",
        "            stats['gt'].extend(self.classes[gt.tolist()])\n",
        "            stats['pred'].extend(self.classes[pred.tolist()])\n",
        "            stats['certainty'].extend(certainty.tolist())\n",
        "            stats['error'].extend(err.tolist())\n",
        "\n",
        "            if filestats_stdout:\n",
        "                for i in range(pred.shape[0]):\n",
        "                    file_error_symbol = '+'\n",
        "                    if err[i]:\n",
        "                        file_error_symbol = '-'\n",
        "                    print(f\"{file_error_symbol} | {self.val_loader.dataset.items[idx[i]]}: gt={self.classes[gt[i]]}, pred={self.classes[pred[i]]}, certainty={certainty[i]:.3f}\")\n",
        "\n",
        "        stats = pd.DataFrame(stats)            \n",
        "                    \n",
        "        acc = 0\n",
        "        if samples_count != 0:\n",
        "            acc = hits_count / samples_count * 100\n",
        "            \n",
        "        if self.verbose:\n",
        "            print(f\" Validation accuracy: {acc}%\")\n",
        "    \n",
        "        return acc, stats\n",
        "\n",
        "    def evaluate(self, show_confusion_matrix=True, filestats_stdout=False, logdir=None):\n",
        "        acc, stats = self._eval(filestats_stdout)\n",
        "        \n",
        "        if logdir is not None:\n",
        "            if not os.path.exists(logdir):\n",
        "                os.mkdir(logdir)            \n",
        "            \n",
        "            filestats_path = os.path.join(logdir, 'filestats.csv')\n",
        "            stats.to_csv(filestats_path)\n",
        "            \n",
        "            acc_path = os.path.join(logdir, 'accuracy.txt')\n",
        "            with open(acc_path, \"w\") as fd:\n",
        "                fd.write(f\"Accuracy: {acc}%\")\n",
        "\n",
        "            cfm_path = os.path.join(logdir, 'cfm.png')\n",
        "            save_confusion_matrix(stats['gt'].tolist(), stats['pred'].tolist(), self.classes, cfm_path)\n",
        "\n",
        "        if show_confusion_matrix:\n",
        "            print_confusion_matrix(stats['gt'].tolist(), stats['pred'].tolist(), self.classes)\n",
        "\n",
        "        return acc, stats\n",
        "\n",
        "    def predict(self, file_or_folder, batch_size=1, print_results=True, results_file=None, plot=True):\n",
        "        if not self.model_rdy:\n",
        "            print(\"Model not initialized\")        \n",
        "            return False\n",
        "        if not os.path.exists(file_or_folder):\n",
        "            print(\"source for prediction not found\")\n",
        "\n",
        "        print(\"Resolving samples\")\n",
        "\n",
        "        files = []\n",
        "        if os.path.isfile(file_or_folder):\n",
        "            files = [file_or_folder]\n",
        "        else:            \n",
        "            for (dir_path, dir_names, file_names) in os.walk(file_or_folder):\n",
        "                files.extend(file_names)\n",
        "            p = Path(file_or_folder).glob('**/*')\n",
        "            files = [x.as_posix() for x in p if x.is_file()]\n",
        "        print(f\" {len(files)} items found\")    \n",
        "\n",
        "        self.model.eval()\n",
        "\n",
        "        # init results file\n",
        "        if results_file is not None:\n",
        "            with open(results_file, \"w\") as fd:\n",
        "                fd.write(f\"filename, pred, certainty\\n\")\n",
        "        \n",
        "        results = []\n",
        "\n",
        "        print(\"Prediction\")\n",
        "\n",
        "        batched_files = [files[i:i + batch_size] for i in range(0, len(files), batch_size)]\n",
        "        for batch in batched_files:\n",
        "            images = []\n",
        "            for file in batch:\n",
        "                images.append(DocDataset.img_path_to_input(file, self.img_size, self.grayscale))\n",
        "            input = torch.stack(images, dim=0)\n",
        "\n",
        "            input = input.to(self.device)\n",
        "            output_logits, output_probs = self.model(input)\n",
        "        \n",
        "            pred = torch.argmax(output_logits, axis=1)\n",
        "            certainty = torch.max(output_probs, axis=1).values\n",
        "            class_names = self.classes[pred.tolist()]\n",
        "\n",
        "            results.extend(zip(batch, class_names))\n",
        "\n",
        "            # plot \n",
        "            if plot:\n",
        "                plt.figure(figsize=(30,30))\n",
        "                for i in range(len(images)):\n",
        "                    plt.subplot(5,5,i+1).set_title(class_names[i] + \" (\" + str(round(certainty[i].item()*100,2)) + \"%)\")\n",
        "                    plt.imshow(images[i].permute((1,2,0)))\n",
        "                plt.show()\n",
        "\n",
        "            # print\n",
        "            if print_results:\n",
        "                for i in range(len(batch)):\n",
        "                    filename = os.path.basename(batch[i])\n",
        "                    print(f\"{filename}, {class_names[i]}, {certainty[i]}\\n\")\n",
        "\n",
        "            # save results to file\n",
        "            if results_file is not None:\n",
        "                with open(results_file, \"a\") as fd:\n",
        "                    for i in range(len(batch)):\n",
        "                        filename = os.path.basename(batch[i])\n",
        "                        fd.write(f\"{filename}, {class_names[i]}, {certainty[i]}\\n\")\n",
        "\n",
        "        return results\n"
      ],
      "metadata": {
        "id": "T7Ui_sjjC48Z"
      },
      "execution_count": 6,
      "outputs": []
    },
    {
      "cell_type": "markdown",
      "source": [
        "# RUN"
      ],
      "metadata": {
        "id": "FjeK7Q4dRWnC"
      }
    },
    {
      "cell_type": "code",
      "execution_count": 7,
      "metadata": {
        "colab": {
          "base_uri": "https://localhost:8080/"
        },
        "id": "rwJdXHFUmOBR",
        "outputId": "992d44db-606f-4bed-f37c-ffdd69233030"
      },
      "outputs": [
        {
          "output_type": "stream",
          "name": "stdout",
          "text": [
            "running on GPU\n"
          ]
        }
      ],
      "source": [
        "if(torch.cuda.is_available()):\n",
        "    device = torch.device(\"cuda\")\n",
        "    print(\"running on GPU\")\n",
        "else:\n",
        "    device = torch.device(\"cpu\")\n",
        "    print(\"running on CPU\")\n",
        "\n",
        "trainer = Trainer(\n",
        "     device = device, \n",
        "     classes = ['up', 'down', 'left', 'right'], \n",
        "     img_size=224, \n",
        "     grayscale=False, \n",
        "     experiments_dir='/content/drive/MyDrive/DS/rotation_cls/runs', \n",
        "     verbose=True\n",
        ")"
      ]
    },
    {
      "cell_type": "code",
      "source": [
        "# trainer.init_model()\n",
        "trainer.init_model(load_state_dict='/content/drive/MyDrive/DS/rotation_cls/runs/start_20221120T220134/bestmodel.pth')"
      ],
      "metadata": {
        "colab": {
          "base_uri": "https://localhost:8080/"
        },
        "id": "-zJkw9dIYatZ",
        "outputId": "15cbf1e9-fd0a-444c-cec3-a50993e73696"
      },
      "execution_count": 11,
      "outputs": [
        {
          "output_type": "stream",
          "name": "stdout",
          "text": [
            "Model initialized\n"
          ]
        }
      ]
    },
    {
      "cell_type": "code",
      "source": [
        "trainer.setup_loaders_with_split( \n",
        "    set_origin = '/content/drive/MyDrive/datasets/test',\n",
        "    batch_size = 8,\n",
        "    validation_split = .2, \n",
        "    shuffle = True\n",
        ")"
      ],
      "metadata": {
        "colab": {
          "base_uri": "https://localhost:8080/"
        },
        "id": "UwovuYqrYWr-",
        "outputId": "215e9278-966e-44fc-df59-39e3f47e81de"
      },
      "execution_count": null,
      "outputs": [
        {
          "output_type": "stream",
          "name": "stdout",
          "text": [
            "Train and Validation loaders created\n"
          ]
        }
      ]
    },
    {
      "cell_type": "code",
      "source": [
        "trainer.setup_train_loader(\n",
        "    trainset_origin = '/content/drive/MyDrive/DS/rotation_cls/rvl-cdip/train_sampled_anglesplit', \n",
        "    batch_size = 16,\n",
        "    shuffle = True\n",
        ")\n",
        "\n",
        "trainer.setup_val_loader(\n",
        "    valset_origin = '/content/drive/MyDrive/DS/rotation_cls/rvl-cdip/test_sampled_anglesplit', \n",
        "    batch_size = 8, \n",
        "    shuffle = True\n",
        ")"
      ],
      "metadata": {
        "id": "fTOFfPbmYWxE"
      },
      "execution_count": null,
      "outputs": []
    },
    {
      "cell_type": "code",
      "source": [
        "trainer.train(\n",
        "    epochs = 20,\n",
        "    eval_each = 1, \n",
        "    log = True, \n",
        "    show_confusion_matrices = True,\n",
        "    save_best_model = True\n",
        ")"
      ],
      "metadata": {
        "id": "mDn0B3lVwwh4"
      },
      "execution_count": null,
      "outputs": []
    },
    {
      "cell_type": "code",
      "source": [
        "acc, stats = trainer.evaluate(\n",
        "    show_confusion_matrix=True, \n",
        "    filestats_stdout=False, \n",
        "    logdir='/content/log'\n",
        ")"
      ],
      "metadata": {
        "id": "f--cLuNLVE1M",
        "colab": {
          "base_uri": "https://localhost:8080/",
          "height": 599,
          "referenced_widgets": [
            "8e5f7fe86c8b43e889db20695db86827",
            "be39758a86d84377b56446f61f8ffbfc",
            "d9812c8179db40b1b541d4f04a5cc156",
            "5ecb4589fa9e4c1ab80932729d22d0d3",
            "bc8fe322dd424173b9eae1b95adc71c7",
            "74610823a1d543ce800f2d839a51ccd1",
            "c86ddc0d3f0648d1b0dd64764537338e",
            "367c48f0432747f2994d7a2dd6f4a983",
            "297c6b6173034529b456a4c74220fad7",
            "9486e0364daf47c09a27d01e62eef9ab",
            "3fc5ffe8f3b84fd58ab5a7405606b410"
          ]
        },
        "outputId": "279120c3-eb62-4e6a-cbd2-4eb3d3f97134"
      },
      "execution_count": null,
      "outputs": [
        {
          "output_type": "stream",
          "name": "stdout",
          "text": [
            "Evaluation\n"
          ]
        },
        {
          "output_type": "display_data",
          "data": {
            "text/plain": [
              "  0%|          | 0/132 [00:00<?, ?it/s]"
            ],
            "application/vnd.jupyter.widget-view+json": {
              "version_major": 2,
              "version_minor": 0,
              "model_id": "8e5f7fe86c8b43e889db20695db86827"
            }
          },
          "metadata": {}
        },
        {
          "output_type": "stream",
          "name": "stderr",
          "text": [
            "/usr/local/lib/python3.7/dist-packages/ipykernel_launcher.py:35: FutureWarning: Pass-through of possibly RGB images in gray2rgb is deprecated. In version 0.19, input arrays will always be considered grayscale, even if the last dimension has length 3 or 4. To prevent this warning and ensure compatibility with future versions, detect RGB images outside of this function.\n"
          ]
        },
        {
          "output_type": "stream",
          "name": "stdout",
          "text": [
            " Validation accuracy: 25.0%\n"
          ]
        },
        {
          "output_type": "display_data",
          "data": {
            "text/plain": [
              "<Figure size 576x432 with 0 Axes>"
            ]
          },
          "metadata": {}
        },
        {
          "output_type": "display_data",
          "data": {
            "text/plain": [
              "<Figure size 576x432 with 1 Axes>"
            ],
            "image/png": "[encoded data removed]"
          },
          "metadata": {
            "needs_background": "light"
          }
        },
        {
          "output_type": "display_data",
          "data": {
            "text/plain": [
              "<Figure size 432x288 with 0 Axes>"
            ]
          },
          "metadata": {}
        }
      ]
    },
    {
      "cell_type": "code",
      "source": [
        "trainer.predict(\n",
        "    file_or_folder = '/content/drive/MyDrive/DS/rotation_cls/pred_test', \n",
        "    batch_size=16, \n",
        "    print_results=True, \n",
        "    results_file='/content/log/tst.csv', \n",
        "    plot=True\n",
        ")"
      ],
      "metadata": {
        "id": "4E7LJqxIscJ9"
      },
      "execution_count": null,
      "outputs": []
    },
    {
      "cell_type": "code",
      "source": [],
      "metadata": {
        "id": "uW3aSvTmd8tX"
      },
      "execution_count": null,
      "outputs": []
    }
  ],
  "metadata": {
    "colab": {
      "provenance": []
    },
    "gpuClass": "standard",
    "kernelspec": {
      "display_name": "Python 3 (ipykernel)",
      "language": "python",
      "name": "python3"
    },
    "language_info": {
      "codemirror_mode": {
        "name": "ipython",
        "version": 3
      },
      "file_extension": ".py",
      "mimetype": "text/x-python",
      "name": "python",
      "nbconvert_exporter": "python",
      "pygments_lexer": "ipython3",
      "version": "3.9.12"
    },
    "accelerator": "GPU",
    "widgets": {
      "application/vnd.jupyter.widget-state+json": {
        "8e5f7fe86c8b43e889db20695db86827": {
          "model_module": "@jupyter-widgets/controls",
          "model_name": "HBoxModel",
          "model_module_version": "1.5.0",
          "state": {
            "_dom_classes": [],
            "_model_module": "@jupyter-widgets/controls",
            "_model_module_version": "1.5.0",
            "_model_name": "HBoxModel",
            "_view_count": null,
            "_view_module": "@jupyter-widgets/controls",
            "_view_module_version": "1.5.0",
            "_view_name": "HBoxView",
            "box_style": "",
            "children": [
              "IPY_MODEL_be39758a86d84377b56446f61f8ffbfc",
              "IPY_MODEL_d9812c8179db40b1b541d4f04a5cc156",
              "IPY_MODEL_5ecb4589fa9e4c1ab80932729d22d0d3"
            ],
            "layout": "IPY_MODEL_bc8fe322dd424173b9eae1b95adc71c7"
          }
        },
        "be39758a86d84377b56446f61f8ffbfc": {
          "model_module": "@jupyter-widgets/controls",
          "model_name": "HTMLModel",
          "model_module_version": "1.5.0",
          "state": {
            "_dom_classes": [],
            "_model_module": "@jupyter-widgets/controls",
            "_model_module_version": "1.5.0",
            "_model_name": "HTMLModel",
            "_view_count": null,
            "_view_module": "@jupyter-widgets/controls",
            "_view_module_version": "1.5.0",
            "_view_name": "HTMLView",
            "description": "",
            "description_tooltip": null,
            "layout": "IPY_MODEL_74610823a1d543ce800f2d839a51ccd1",
            "placeholder": "​",
            "style": "IPY_MODEL_c86ddc0d3f0648d1b0dd64764537338e",
            "value": "100%"
          }
        },
        "d9812c8179db40b1b541d4f04a5cc156": {
          "model_module": "@jupyter-widgets/controls",
          "model_name": "FloatProgressModel",
          "model_module_version": "1.5.0",
          "state": {
            "_dom_classes": [],
            "_model_module": "@jupyter-widgets/controls",
            "_model_module_version": "1.5.0",
            "_model_name": "FloatProgressModel",
            "_view_count": null,
            "_view_module": "@jupyter-widgets/controls",
            "_view_module_version": "1.5.0",
            "_view_name": "ProgressView",
            "bar_style": "success",
            "description": "",
            "description_tooltip": null,
            "layout": "IPY_MODEL_367c48f0432747f2994d7a2dd6f4a983",
            "max": 132,
            "min": 0,
            "orientation": "horizontal",
            "style": "IPY_MODEL_297c6b6173034529b456a4c74220fad7",
            "value": 132
          }
        },
        "5ecb4589fa9e4c1ab80932729d22d0d3": {
          "model_module": "@jupyter-widgets/controls",
          "model_name": "HTMLModel",
          "model_module_version": "1.5.0",
          "state": {
            "_dom_classes": [],
            "_model_module": "@jupyter-widgets/controls",
            "_model_module_version": "1.5.0",
            "_model_name": "HTMLModel",
            "_view_count": null,
            "_view_module": "@jupyter-widgets/controls",
            "_view_module_version": "1.5.0",
            "_view_name": "HTMLView",
            "description": "",
            "description_tooltip": null,
            "layout": "IPY_MODEL_9486e0364daf47c09a27d01e62eef9ab",
            "placeholder": "​",
            "style": "IPY_MODEL_3fc5ffe8f3b84fd58ab5a7405606b410",
            "value": " 132/132 [00:35&lt;00:00,  4.60it/s]"
          }
        },
        "bc8fe322dd424173b9eae1b95adc71c7": {
          "model_module": "@jupyter-widgets/base",
          "model_name": "LayoutModel",
          "model_module_version": "1.2.0",
          "state": {
            "_model_module": "@jupyter-widgets/base",
            "_model_module_version": "1.2.0",
            "_model_name": "LayoutModel",
            "_view_count": null,
            "_view_module": "@jupyter-widgets/base",
            "_view_module_version": "1.2.0",
            "_view_name": "LayoutView",
            "align_content": null,
            "align_items": null,
            "align_self": null,
            "border": null,
            "bottom": null,
            "display": null,
            "flex": null,
            "flex_flow": null,
            "grid_area": null,
            "grid_auto_columns": null,
            "grid_auto_flow": null,
            "grid_auto_rows": null,
            "grid_column": null,
            "grid_gap": null,
            "grid_row": null,
            "grid_template_areas": null,
            "grid_template_columns": null,
            "grid_template_rows": null,
            "height": null,
            "justify_content": null,
            "justify_items": null,
            "left": null,
            "margin": null,
            "max_height": null,
            "max_width": null,
            "min_height": null,
            "min_width": null,
            "object_fit": null,
            "object_position": null,
            "order": null,
            "overflow": null,
            "overflow_x": null,
            "overflow_y": null,
            "padding": null,
            "right": null,
            "top": null,
            "visibility": null,
            "width": null
          }
        },
        "74610823a1d543ce800f2d839a51ccd1": {
          "model_module": "@jupyter-widgets/base",
          "model_name": "LayoutModel",
          "model_module_version": "1.2.0",
          "state": {
            "_model_module": "@jupyter-widgets/base",
            "_model_module_version": "1.2.0",
            "_model_name": "LayoutModel",
            "_view_count": null,
            "_view_module": "@jupyter-widgets/base",
            "_view_module_version": "1.2.0",
            "_view_name": "LayoutView",
            "align_content": null,
            "align_items": null,
            "align_self": null,
            "border": null,
            "bottom": null,
            "display": null,
            "flex": null,
            "flex_flow": null,
            "grid_area": null,
            "grid_auto_columns": null,
            "grid_auto_flow": null,
            "grid_auto_rows": null,
            "grid_column": null,
            "grid_gap": null,
            "grid_row": null,
            "grid_template_areas": null,
            "grid_template_columns": null,
            "grid_template_rows": null,
            "height": null,
            "justify_content": null,
            "justify_items": null,
            "left": null,
            "margin": null,
            "max_height": null,
            "max_width": null,
            "min_height": null,
            "min_width": null,
            "object_fit": null,
            "object_position": null,
            "order": null,
            "overflow": null,
            "overflow_x": null,
            "overflow_y": null,
            "padding": null,
            "right": null,
            "top": null,
            "visibility": null,
            "width": null
          }
        },
        "c86ddc0d3f0648d1b0dd64764537338e": {
          "model_module": "@jupyter-widgets/controls",
          "model_name": "DescriptionStyleModel",
          "model_module_version": "1.5.0",
          "state": {
            "_model_module": "@jupyter-widgets/controls",
            "_model_module_version": "1.5.0",
            "_model_name": "DescriptionStyleModel",
            "_view_count": null,
            "_view_module": "@jupyter-widgets/base",
            "_view_module_version": "1.2.0",
            "_view_name": "StyleView",
            "description_width": ""
          }
        },
        "367c48f0432747f2994d7a2dd6f4a983": {
          "model_module": "@jupyter-widgets/base",
          "model_name": "LayoutModel",
          "model_module_version": "1.2.0",
          "state": {
            "_model_module": "@jupyter-widgets/base",
            "_model_module_version": "1.2.0",
            "_model_name": "LayoutModel",
            "_view_count": null,
            "_view_module": "@jupyter-widgets/base",
            "_view_module_version": "1.2.0",
            "_view_name": "LayoutView",
            "align_content": null,
            "align_items": null,
            "align_self": null,
            "border": null,
            "bottom": null,
            "display": null,
            "flex": null,
            "flex_flow": null,
            "grid_area": null,
            "grid_auto_columns": null,
            "grid_auto_flow": null,
            "grid_auto_rows": null,
            "grid_column": null,
            "grid_gap": null,
            "grid_row": null,
            "grid_template_areas": null,
            "grid_template_columns": null,
            "grid_template_rows": null,
            "height": null,
            "justify_content": null,
            "justify_items": null,
            "left": null,
            "margin": null,
            "max_height": null,
            "max_width": null,
            "min_height": null,
            "min_width": null,
            "object_fit": null,
            "object_position": null,
            "order": null,
            "overflow": null,
            "overflow_x": null,
            "overflow_y": null,
            "padding": null,
            "right": null,
            "top": null,
            "visibility": null,
            "width": null
          }
        },
        "297c6b6173034529b456a4c74220fad7": {
          "model_module": "@jupyter-widgets/controls",
          "model_name": "ProgressStyleModel",
          "model_module_version": "1.5.0",
          "state": {
            "_model_module": "@jupyter-widgets/controls",
            "_model_module_version": "1.5.0",
            "_model_name": "ProgressStyleModel",
            "_view_count": null,
            "_view_module": "@jupyter-widgets/base",
            "_view_module_version": "1.2.0",
            "_view_name": "StyleView",
            "bar_color": null,
            "description_width": ""
          }
        },
        "9486e0364daf47c09a27d01e62eef9ab": {
          "model_module": "@jupyter-widgets/base",
          "model_name": "LayoutModel",
          "model_module_version": "1.2.0",
          "state": {
            "_model_module": "@jupyter-widgets/base",
            "_model_module_version": "1.2.0",
            "_model_name": "LayoutModel",
            "_view_count": null,
            "_view_module": "@jupyter-widgets/base",
            "_view_module_version": "1.2.0",
            "_view_name": "LayoutView",
            "align_content": null,
            "align_items": null,
            "align_self": null,
            "border": null,
            "bottom": null,
            "display": null,
            "flex": null,
            "flex_flow": null,
            "grid_area": null,
            "grid_auto_columns": null,
            "grid_auto_flow": null,
            "grid_auto_rows": null,
            "grid_column": null,
            "grid_gap": null,
            "grid_row": null,
            "grid_template_areas": null,
            "grid_template_columns": null,
            "grid_template_rows": null,
            "height": null,
            "justify_content": null,
            "justify_items": null,
            "left": null,
            "margin": null,
            "max_height": null,
            "max_width": null,
            "min_height": null,
            "min_width": null,
            "object_fit": null,
            "object_position": null,
            "order": null,
            "overflow": null,
            "overflow_x": null,
            "overflow_y": null,
            "padding": null,
            "right": null,
            "top": null,
            "visibility": null,
            "width": null
          }
        },
        "3fc5ffe8f3b84fd58ab5a7405606b410": {
          "model_module": "@jupyter-widgets/controls",
          "model_name": "DescriptionStyleModel",
          "model_module_version": "1.5.0",
          "state": {
            "_model_module": "@jupyter-widgets/controls",
            "_model_module_version": "1.5.0",
            "_model_name": "DescriptionStyleModel",
            "_view_count": null,
            "_view_module": "@jupyter-widgets/base",
            "_view_module_version": "1.2.0",
            "_view_name": "StyleView",
            "description_width": ""
          }
        }
      }
    }
  },
  "nbformat": 4,
  "nbformat_minor": 0
}